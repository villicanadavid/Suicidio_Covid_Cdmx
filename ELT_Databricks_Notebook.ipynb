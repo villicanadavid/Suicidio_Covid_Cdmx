{
 "cells": [
  {
   "cell_type": "code",
   "execution_count": 0,
   "metadata": {
    "application/vnd.databricks.v1+cell": {
     "cellMetadata": {
      "byteLimit": 2048000,
      "rowLimit": 10000
     },
     "inputWidgets": {},
     "nuid": "d756a5ee-1670-4203-aa53-423d85b48508",
     "showTitle": false,
     "tableResultSettingsMap": {},
     "title": ""
    }
   },
   "outputs": [],
   "source": [
    "#Abrir credenciales de permisos\n",
    "spark.conf.set(\"fs.s3a.access.key\", \"XX\")\n",
    "spark.conf.set(\"fs.s3a.secret.key\", \"XX\")\n",
    "spark.conf.set(\"fs.s3a.endpoint\", \"s3.us-east-2.amazonaws.com\")"
   ]
  },
  {
   "cell_type": "code",
   "execution_count": 0,
   "metadata": {
    "application/vnd.databricks.v1+cell": {
     "cellMetadata": {
      "byteLimit": 2048000,
      "rowLimit": 10000
     },
     "inputWidgets": {},
     "nuid": "37131c60-054e-4b02-8034-ce7d19c5c09f",
     "showTitle": false,
     "tableResultSettingsMap": {},
     "title": ""
    }
   },
   "outputs": [],
   "source": [
    "#Leer los archivos del bucket para crear la DB\n",
    "df_csv = spark.read.csv(\"s3://cdmxsuicidio/\", header=True)"
   ]
  },
  {
   "cell_type": "code",
   "execution_count": 0,
   "metadata": {
    "application/vnd.databricks.v1+cell": {
     "cellMetadata": {
      "byteLimit": 2048000,
      "rowLimit": 10000
     },
     "inputWidgets": {},
     "nuid": "3eb77048-055f-4392-80ff-838963ba535c",
     "showTitle": false,
     "tableResultSettingsMap": {},
     "title": ""
    }
   },
   "outputs": [],
   "source": [
    "#Seleccionar solo las columnas necesarias:\n",
    "df = df_csv.select(\n",
    "    col(\"ent_resid\").cast(\"int\"),\n",
    "    col(\"anio_ocur\").cast(\"int\"),\n",
    "    col(\"mes_ocurr\").cast(\"int\"),\n",
    "    col(\"edad_agru\").cast(\"int\"),\n",
    "    col(\"edad\").cast(\"int\"),\n",
    "    col(\"capitulo\").cast(\"int\"),\n",
    "    col(\"grupo\").cast(\"int\"),\n",
    "    col(\"mun_resid\").cast(\"int\"),\n",
    "    col(\"causa_def\").cast(\"int\"),\n",
    "    col(\"sexo\").cast(\"int\"),\n",
    "    col(\"ocupacion\").cast(\"int\"),\n",
    "    col(\"cond_act\").cast(\"int\"),\n",
    "    col(\"escolarida\").cast(\"int\"),\n",
    "    col(\"edo_civil\").cast(\"int\"),\n",
    "    col(\"ocurr_trab\").cast(\"int\"),\n",
    "    col(\"lugar_ocur\").cast(\"int\"),\n",
    "    col(\"asist_medi\").cast(\"int\"),\n",
    "    col(\"derechohab\").cast(\"int\"),\n",
    "    col(\"embarazo\").cast(\"int\")\n",
    ")\n"
   ]
  },
  {
   "cell_type": "code",
   "execution_count": 0,
   "metadata": {
    "application/vnd.databricks.v1+cell": {
     "cellMetadata": {
      "byteLimit": 2048000,
      "rowLimit": 10000
     },
     "inputWidgets": {},
     "nuid": "e6904cf2-6936-4dcd-95dc-aeceb3cb2162",
     "showTitle": false,
     "tableResultSettingsMap": {},
     "title": ""
    }
   },
   "outputs": [],
   "source": [
    "#Aplicar filtros de muestra requerida para el analisis\n",
    "\n",
    "suicid = df.filter(\n",
    "    (col(\"ent_resid\") == 9) &  \n",
    "    (col(\"capitulo\") == 20) &  \n",
    "    (col(\"grupo\") == 26) &  \n",
    "    (col(\"anio_ocur\") >= 2016)\n",
    ")"
   ]
  },
  {
   "cell_type": "code",
   "execution_count": 0,
   "metadata": {
    "application/vnd.databricks.v1+cell": {
     "cellMetadata": {
      "byteLimit": 2048000,
      "rowLimit": 10000
     },
     "inputWidgets": {},
     "nuid": "54917dad-5f41-42ba-8524-29fbe4803935",
     "showTitle": false,
     "tableResultSettingsMap": {},
     "title": ""
    }
   },
   "outputs": [],
   "source": [
    "#Crear database en databricks para su posterior uso en SQL Editor \n",
    "\n",
    "spark.sql(\"CREATE DATABASE IF NOT EXISTS mortalidaddb\")\n",
    "\n",
    "# Escribir el DataFrame en una tabla manejada\n",
    "suicid.write.mode(\"overwrite\").saveAsTable(\"mortalidaddb.suicid_cdmx\")"
   ]
  }
 ],
 "metadata": {
  "application/vnd.databricks.v1+notebook": {
   "computePreferences": null,
   "dashboards": [],
   "environmentMetadata": {
    "base_environment": "",
    "environment_version": "2"
   },
   "language": "python",
   "notebookMetadata": {
    "mostRecentlyExecutedCommandWithImplicitDF": {
     "commandId": 7901366232403549,
     "dataframes": [
      "_sqldf"
     ]
    },
    "pythonIndentUnit": 4
   },
   "notebookName": "Suicidios en el periodo COVID en la CDMX - ELT",
   "widgets": {}
  },
  "language_info": {
   "name": "python"
  }
 },
 "nbformat": 4,
 "nbformat_minor": 0
}
